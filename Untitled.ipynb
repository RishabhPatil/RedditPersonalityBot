{
 "cells": [
  {
   "cell_type": "code",
   "execution_count": null,
   "metadata": {},
   "outputs": [
    {
     "name": "stderr",
     "output_type": "stream",
     "text": [
      "c:\\users\\rishabh\\anaconda3\\envs\\py35\\lib\\site-packages\\requests\\__init__.py:80: RequestsDependencyWarning: urllib3 (1.22) or chardet (2.3.0) doesn't match a supported version!\n",
      "  RequestsDependencyWarning)\n",
      "c:\\users\\rishabh\\anaconda3\\envs\\py35\\lib\\site-packages\\gensim\\utils.py:860: UserWarning: detected Windows; aliasing chunkize to chunkize_serial\n",
      "  warnings.warn(\"detected Windows; aliasing chunkize to chunkize_serial\")\n"
     ]
    }
   ],
   "source": [
    "import os\n",
    "import nltk\n",
    "import re\n",
    "import textract\n",
    "from unidecode import unidecode\n",
    "import gensim\n",
    "from sklearn.metrics.pairwise import cosine_similarity as cosine_similarity\n",
    "import gensim\n",
    "import copy\n",
    "from scipy import spatial\n",
    "import json"
   ]
  },
  {
   "cell_type": "code",
   "execution_count": null,
   "metadata": {},
   "outputs": [],
   "source": [
    "users = os.listdir(\"data\")\n",
    "\n",
    "comments = []\n",
    "\n",
    "for user in users:\n",
    "    with open(\"data/\"+user,'r') as f:\n",
    "        userdata = json.load(f)\n",
    "    if \"comments\" in userdata:\n",
    "        for comment in userdata[\"comments\"]:\n",
    "            comments.append(comment)\n",
    "\n",
    "def make_corpus(sentences):\n",
    "\tfor i in range(len(sentences)):\n",
    "\t\tyield gensim.models.doc2vec.TaggedDocument(gensim.utils.simple_preprocess(sentences[i]), [i])\n",
    "\n",
    "train = list(make_corpus(comments))\n",
    "del(comments)"
   ]
  },
  {
   "cell_type": "code",
   "execution_count": null,
   "metadata": {},
   "outputs": [],
   "source": [
    "import warnings\n",
    "warnings.filterwarnings('ignore')\n",
    "min_cs = 0\n",
    "for ite in range(1):\n",
    "    count =0\n",
    "    c_sum=0\n",
    "    model = gensim.models.doc2vec.Doc2Vec(size=200, min_count=1, iter=10, workers=1, dm=0)\n",
    "    model.build_vocab(train)\n",
    "    model.train(train, total_examples=model.corpus_count, epochs=model.iter)\n",
    "    model.save('Doc2Vec')"
   ]
  }
 ],
 "metadata": {
  "kernelspec": {
   "display_name": "Python 3",
   "language": "python",
   "name": "python3"
  },
  "language_info": {
   "codemirror_mode": {
    "name": "ipython",
    "version": 3
   },
   "file_extension": ".py",
   "mimetype": "text/x-python",
   "name": "python",
   "nbconvert_exporter": "python",
   "pygments_lexer": "ipython3",
   "version": "3.5.4"
  }
 },
 "nbformat": 4,
 "nbformat_minor": 2
}
